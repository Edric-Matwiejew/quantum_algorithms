{
 "cells": [
  {
   "cell_type": "code",
   "execution_count": 7,
   "metadata": {},
   "outputs": [],
   "source": [
    "import numpy as np\n",
    "from numpy import kron as k\n",
    "import scipy as sp\n",
    "from scipy import linalg as lin"
   ]
  },
  {
   "cell_type": "markdown",
   "metadata": {},
   "source": [
    "# Quantum Algorithims Tutorial\n",
    "\n",
    "## Background \n",
    "\n",
    "### Computational basis\n",
    "\n",
    "$| 0 \\rangle = \\begin{bmatrix}\n",
    "                    1 \\\\\n",
    "                    0\n",
    "              \\end{bmatrix}$\n",
    "              \n",
    "\n",
    "$| 1 \\rangle = \\begin{bmatrix}\n",
    "                    0 \\\\\n",
    "                    1\n",
    "              \\end{bmatrix}$\n",
    "              \n",
    "### Hadamard (plus/minus) basis\n",
    "\n",
    "$| + \\rangle = \\frac{1}{\\sqrt{2}}(| 0 \\rangle + | 1 \\rangle)$\n",
    "\n",
    "$| - \\rangle = \\frac{1}{\\sqrt{2}}(| 0 \\rangle - | 1 \\rangle)$\n",
    "\n",
    "### 1-qubit gates\n",
    "      \n",
    "$ I = \\begin{bmatrix}\n",
    "        1 & 0 \\\\\n",
    "        0 & 1\n",
    "      \\end{bmatrix}$   \n",
    "      \n",
    "$ X = \\begin{bmatrix}\n",
    "        0 & 1 \\\\\n",
    "        1 & 0 \n",
    "      \\end{bmatrix}$\n",
    "      \n",
    "$ H = \\frac{1}{\\sqrt{2}} \\begin{bmatrix}\n",
    "                            1 & 1 \\\\\n",
    "                            1 & -1\n",
    "                         \\end{bmatrix}$                     \n",
    "\n",
    "$ Z = \\begin{bmatrix}\n",
    "        1 & 0 \\\\\n",
    "        0 & -1 \n",
    "      \\end{bmatrix}$\n",
    "      \n",
    "### 2-qubit gates\n",
    "\n",
    "$CNOT = \\begin{bmatrix}\n",
    "        1 & 0 & 0 & 0 \\\\\n",
    "        0 & 1 & 0 & 0 \\\\\n",
    "        0 & 0 & 0 & 1 \\\\\n",
    "        0 & 0 & 1 & 0\n",
    "        \\end{bmatrix}$"
   ]
  },
  {
   "cell_type": "code",
   "execution_count": 27,
   "metadata": {},
   "outputs": [],
   "source": [
    "# Computational basis states.\n",
    "zero = np.array([1,0]);\n",
    "one = np.array([0,1]);\n",
    "\n",
    "# Hadamard (+/-) basis states.\n",
    "plus = (1/np.sqrt(2))*(zero + one)\n",
    "minus = (1/np.sqrt(2))*(zero - one)\n",
    "\n",
    "# NOT (or bit flip) gate.\n",
    "X = np.array([[0,1],[1,0]])\n",
    "\n",
    "# Hadamard Gate.\n",
    "H = (1/np.sqrt(2))*np.array([[1,1],[1,-1]])\n",
    "\n",
    "# Pi phase shift (Pauli z) gate.\n",
    "Z = np.array([[1,0],[0,-1]])\n",
    "\n",
    "# 2 x 2 identity.\n",
    "I = np.array([[1,0],[0,1]])\n",
    "\n",
    "# 2-qubit controlled not gate.\n",
    "CNOT = np.array([[1,0,0,0],[0,1,0,0],[0,0,0,1],[0,0,1,0]])\n",
    "\n",
    "# Kronecker product of an list of operators or states.\n",
    "def kron(array):\n",
    "    A = np.kron(array[0],array[1])\n",
    "    if len(array) > 2:\n",
    "        for element in array[2::]:\n",
    "            A = np.kron(A,element)\n",
    "    return A\n",
    "\n",
    "# Nth state in the compuational basis.\n",
    "def n_state(n,qubits):\n",
    "    n_state = np.zeros(2**qubits)\n",
    "    n_state[n] = 1\n",
    "    return n_state\n",
    "\n",
    "# 2^n x 2^n identity matrix.\n",
    "def idn(qubits):\n",
    "    return np.identity(2**qubits)\n",
    "\n",
    "# State probability.\n",
    "def prob(state):\n",
    "    return np.multiply(state, state)"
   ]
  },
  {
   "cell_type": "markdown",
   "metadata": {},
   "source": [
    "## Multiple qubit systems\n",
    "\n",
    "Systems consisting of multiple qubits are formed by the Kroneckor (or tensor) product of single qubit states, eg:\n",
    "\n",
    "$|00 \\rangle = | 0 \\rangle | 0 \\rangle = | 0 \\rangle \\otimes | 0 \\rangle = \\begin{bmatrix} 1 \\\\ 0 \\end{bmatrix} \\otimes \\begin{bmatrix} 1 \\\\ 0 \\end{bmatrix} = \\begin{bmatrix} 1 \\\\ 0 \\\\ 0 \\\\ 0 \\end{bmatrix}$\n",
    "\n",
    "To apply an $X$ gate to the first qubit of $| 00 \\rangle$ and a $H$ gate to the second qubit we apply:\n",
    "\n",
    "$(X \\otimes H) | 00 \\rangle = |1\\rangle \\frac{1}{\\sqrt{2}} (|0 \\rangle + | 1 \\rangle) = |1 \\rangle | + \\rangle $"
   ]
  },
  {
   "cell_type": "code",
   "execution_count": 28,
   "metadata": {},
   "outputs": [
    {
     "data": {
      "text/plain": [
       "array([ True,  True,  True,  True])"
      ]
     },
     "execution_count": 28,
     "metadata": {},
     "output_type": "execute_result"
    }
   ],
   "source": [
    "kron([X,H]) @ kron([zero,zero]) == kron([one,plus])"
   ]
  },
  {
   "cell_type": "markdown",
   "metadata": {},
   "source": [
    "Or to apply an $X$ gate to only the second qubit:\n",
    "\n",
    "$(I \\otimes X) | 00 \\rangle = |01 \\rangle$"
   ]
  },
  {
   "cell_type": "code",
   "execution_count": 29,
   "metadata": {},
   "outputs": [
    {
     "data": {
      "text/plain": [
       "array([ True,  True,  True,  True])"
      ]
     },
     "execution_count": 29,
     "metadata": {},
     "output_type": "execute_result"
    }
   ],
   "source": [
    "kron([I,X]) @ kron([zero,zero]) == kron([zero, one])"
   ]
  },
  {
   "cell_type": "markdown",
   "metadata": {},
   "source": [
    "### Binary representation of multi-qubit states\n",
    "\n",
    "Multi-qubit states my be abbreviated as $| i \\rangle$, where $i$ is a decimal number, arrived at by interpreting the $0$s and $1$s in the braket as a binary string. For a 2-qubit system:\n",
    "\n",
    "$| 00 \\rangle \\rightarrow | 0 \\rangle$\n",
    "\n",
    "$| 01 \\rangle \\rightarrow | 1 \\rangle$\n",
    "\n",
    "$| 10 \\rangle \\rightarrow | 2 \\rangle$\n",
    "\n",
    "$| 11 \\rangle \\rightarrow | 3 \\rangle$"
   ]
  },
  {
   "cell_type": "markdown",
   "metadata": {},
   "source": [
    "## Deutsch-Jozsa Algorithm\n",
    "\n",
    "* Determine if a Boolean function of n Boolean inputs is even constant with O(1).\n",
    "* Classically, this would require O(n) queries.\n",
    "* Representation of a non-reversable function.\n",
    "\n",
    "$U_f(|x \\rangle | y \\rangle) := | x \\rangle| (y + f(x)) \\text{ mod 2} \\rangle $\n",
    "\n",
    "* Phase kickback.\n",
    "\n",
    "$ U_f | x \\rangle | - \\rangle = U_f| x \\rangle \\frac{1}{\\sqrt{2}}(| 0 \\rangle - |1 \\rangle) = | x \\rangle \\frac{1}{\\sqrt{2}}(| (f(x) + 0) \\text { mod 2}) \\rangle - | (f(x) + 1) \\text { mod 2}) \\rangle)$\n",
    "\n",
    "$= (-1)^{f(x)}| x \\rangle | - \\rangle$\n",
    "\n",
    "* Phase to bit flip.\n",
    "\n",
    "$H Z H = X$"
   ]
  },
  {
   "cell_type": "code",
   "execution_count": 30,
   "metadata": {},
   "outputs": [],
   "source": [
    "U_f0 = kron([I,I]);\n",
    "U_f1 = kron([I,X]);\n",
    "U_fx = CNOT;\n",
    "U_fxbar = kron([I,X]) @ CNOT;"
   ]
  },
  {
   "cell_type": "code",
   "execution_count": 31,
   "metadata": {},
   "outputs": [
    {
     "name": "stdout",
     "output_type": "stream",
     "text": [
      "[[-2.23711432e-17  1.00000000e+00]\n",
      " [ 1.00000000e+00 -2.23711432e-17]]\n",
      "[[0 1]\n",
      " [1 0]]\n"
     ]
    }
   ],
   "source": [
    "print((H @ Z @ H))\n",
    "print(X)"
   ]
  },
  {
   "cell_type": "code",
   "execution_count": 32,
   "metadata": {},
   "outputs": [
    {
     "data": {
      "text/plain": [
       "array([0. , 0. , 0.5, 0.5])"
      ]
     },
     "execution_count": 32,
     "metadata": {},
     "output_type": "execute_result"
    }
   ],
   "source": [
    "psi_0 = kron([zero,one])\n",
    "psi_1 = kron([H,H]) @ psi_0\n",
    "psi_2 = U_fxbar @ psi_1\n",
    "psi_3 = kron([H,idn(1)]) @ psi_2\n",
    "np.multiply(psi_3,psi_3) "
   ]
  },
  {
   "cell_type": "markdown",
   "metadata": {},
   "source": [
    "## Bernstien-Vazirani Algorithm\n",
    "\n",
    "* The quantum advantage of the Deutsch-Jozsa Algorithm disapears with a small error rate.\n",
    "* BV algorithm shows quantum advantage even allowing for error."
   ]
  },
  {
   "cell_type": "markdown",
   "metadata": {},
   "source": [
    "### Multi-qubit controlled gates\n",
    "\n",
    "In this example, the oracle is moddled by performing a bit flip on the last register if $a_i = 0$. This requires a CNOT gate between non-adjacent qubits. To arrive at a matrix representation of that operator let's first consider the algebraic representation of a controlled unitary operator:\n",
    "\n",
    "$CU = | 0 \\rangle \\langle 0 | \\otimes I + | 1 \\rangle \\langle 1 | \\otimes U$\n",
    "\n",
    "Where $I$ and $U$ are of the same dimension, $n$, and the control qubit is located in the first register. This follows the usual process whereby multi-qubit gates are 'built-up' as a series of tensor products. The new additions are the projection operators, $| 0 \\rangle \\langle 0 |$ and $| 1 \\rangle \\langle 1 | $, which map a single qubit to the $|0 \\rangle$ and $| 1 \\rangle$ states repectively.\n",
    "\n",
    "As matrices, this takes the form (to arrive at this remember that $| 0 \\rangle \\langle 0 |$ is an outer product):\n",
    "\n",
    "$CU = \\begin{bmatrix}\n",
    "        I_n & 0_n \\\\\n",
    "        0_n & U_n \\\\\n",
    "        \\end{bmatrix}$\n",
    "        \n",
    "It is easy to check that this results in the desired behaviour if we consider a single qubit system:\n",
    "\n",
    "$CU | 0 \\rangle = \\begin{bmatrix} 1 & 0 \\\\ 0 & U \\end{bmatrix}  \\begin{bmatrix} 1 \\\\ 0 \\end{bmatrix} = \\begin{bmatrix} 1 \\\\ 0 \\end{bmatrix} = | 0 \\rangle $\n",
    "\n",
    "$CU | 1 \\rangle = \\begin{bmatrix} 1 & 0 \\\\ 0 & U \\end{bmatrix}  \\begin{bmatrix} 0 \\\\ 1 \\end{bmatrix} = \\begin{bmatrix} 0 \\\\ U \\end{bmatrix} = U| 1 \\rangle $\n",
    "\n",
    "With the above in mind, for a 3-qubit system, a CNOT gate with the first qubit as the control and the third qubit as the target, $CX_{1,3}$, is:\n",
    "\n",
    "$CX_{1,3} = | 0 \\rangle \\langle 0 | \\otimes I_2\\otimes I_2 + | 1 \\rangle \\langle 1 | \\otimes I_2 \\otimes X $\n",
    "\n",
    "Or, for the same system, a CNOT gate with the second qubit as the control and the first as the target, $CX_{2,1}$:\n",
    "\n",
    "$CX_{2,1} = I_2 \\otimes | 0 \\rangle \\langle 0 | \\otimes I_2 + X \\otimes | 1 \\rangle \\langle 1 | \\otimes I_2$"
   ]
  },
  {
   "cell_type": "code",
   "execution_count": 33,
   "metadata": {},
   "outputs": [],
   "source": [
    "qubits = 4;\n",
    "x = n_state(1,3);\n",
    "a = [1,0,1];"
   ]
  },
  {
   "cell_type": "code",
   "execution_count": 15,
   "metadata": {},
   "outputs": [],
   "source": [
    "Ua = (kron([np.outer(zero,zero),idn(3)]) + kron([np.outer(one,one),kron([idn(2),X])])) @ kron([I,I,CNOT])"
   ]
  },
  {
   "cell_type": "code",
   "execution_count": 16,
   "metadata": {},
   "outputs": [],
   "source": [
    "psi_0 = kron([zero,zero,zero,one])"
   ]
  },
  {
   "cell_type": "code",
   "execution_count": 17,
   "metadata": {},
   "outputs": [],
   "source": [
    "psi_1 = kron([H,H,H,H]) @ psi_0"
   ]
  },
  {
   "cell_type": "code",
   "execution_count": 18,
   "metadata": {},
   "outputs": [],
   "source": [
    "psi_2 = Ua @ psi_1"
   ]
  },
  {
   "cell_type": "code",
   "execution_count": 19,
   "metadata": {},
   "outputs": [],
   "source": [
    "psi_3 = kron([H,H,H,I]) @ psi_2"
   ]
  },
  {
   "cell_type": "code",
   "execution_count": 20,
   "metadata": {},
   "outputs": [
    {
     "data": {
      "text/plain": [
       "array([0.00000000e+00, 0.00000000e+00, 1.13388168e-35, 1.13388168e-35,\n",
       "       0.00000000e+00, 0.00000000e+00, 1.13388168e-35, 1.13388168e-35,\n",
       "       0.00000000e+00, 0.00000000e+00, 5.00000000e-01, 5.00000000e-01,\n",
       "       0.00000000e+00, 0.00000000e+00, 1.13388168e-35, 1.13388168e-35])"
      ]
     },
     "execution_count": 20,
     "metadata": {},
     "output_type": "execute_result"
    }
   ],
   "source": [
    "prob(psi_3)"
   ]
  },
  {
   "cell_type": "code",
   "execution_count": 21,
   "metadata": {},
   "outputs": [
    {
     "data": {
      "text/plain": [
       "array([0. , 0. , 0. , 0. , 0. , 0. , 0. , 0. , 0. , 0. , 0.5, 0.5, 0. ,\n",
       "       0. , 0. , 0. ])"
      ]
     },
     "execution_count": 21,
     "metadata": {},
     "output_type": "execute_result"
    }
   ],
   "source": [
    "prob(1/np.sqrt(2)*(kron([one,zero,one,one]) + kron([one,zero,one,zero])))"
   ]
  },
  {
   "cell_type": "code",
   "execution_count": null,
   "metadata": {},
   "outputs": [],
   "source": []
  }
 ],
 "metadata": {
  "kernelspec": {
   "display_name": "Python 3",
   "language": "python",
   "name": "python3"
  },
  "language_info": {
   "codemirror_mode": {
    "name": "ipython",
    "version": 3
   },
   "file_extension": ".py",
   "mimetype": "text/x-python",
   "name": "python",
   "nbconvert_exporter": "python",
   "pygments_lexer": "ipython3",
   "version": "3.6.9"
  }
 },
 "nbformat": 4,
 "nbformat_minor": 2
}
